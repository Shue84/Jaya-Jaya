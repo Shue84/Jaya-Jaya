{
  "nbformat": 4,
  "nbformat_minor": 0,
  "metadata": {
    "colab": {
      "provenance": [],
      "authorship_tag": "ABX9TyOmcmd5SV2NqXKLb4To9N0B",
      "include_colab_link": true
    },
    "kernelspec": {
      "name": "python3",
      "display_name": "Python 3"
    },
    "language_info": {
      "name": "python"
    }
  },
  "cells": [
    {
      "cell_type": "markdown",
      "metadata": {
        "id": "view-in-github",
        "colab_type": "text"
      },
      "source": [
        "<a href=\"https://colab.research.google.com/github/Shue84/Jaya-Jaya/blob/main/Prototype.ipynb\" target=\"_parent\"><img src=\"https://colab.research.google.com/assets/colab-badge.svg\" alt=\"Open In Colab\"/></a>"
      ]
    },
    {
      "cell_type": "code",
      "execution_count": 2,
      "metadata": {
        "id": "Z03y9wsd3rIa",
        "colab": {
          "base_uri": "https://localhost:8080/",
          "height": 383
        },
        "outputId": "2c3afbba-ff50-4462-9374-6c2301e92ecc"
      },
      "outputs": [
        {
          "output_type": "error",
          "ename": "ModuleNotFoundError",
          "evalue": "No module named 'data_preprocessing'",
          "traceback": [
            "\u001b[0;31m---------------------------------------------------------------------------\u001b[0m",
            "\u001b[0;31mModuleNotFoundError\u001b[0m                       Traceback (most recent call last)",
            "\u001b[0;32m<ipython-input-2-4ff9fff63c5a>\u001b[0m in \u001b[0;36m<cell line: 0>\u001b[0;34m()\u001b[0m\n\u001b[1;32m      2\u001b[0m \u001b[0;32mimport\u001b[0m \u001b[0mpandas\u001b[0m \u001b[0;32mas\u001b[0m \u001b[0mpd\u001b[0m\u001b[0;34m\u001b[0m\u001b[0;34m\u001b[0m\u001b[0m\n\u001b[1;32m      3\u001b[0m \u001b[0;32mimport\u001b[0m \u001b[0mjoblib\u001b[0m\u001b[0;34m\u001b[0m\u001b[0;34m\u001b[0m\u001b[0m\n\u001b[0;32m----> 4\u001b[0;31m \u001b[0;32mfrom\u001b[0m \u001b[0mdata_preprocessing\u001b[0m \u001b[0;32mimport\u001b[0m \u001b[0mdata_preprocessing\u001b[0m\u001b[0;34m,\u001b[0m \u001b[0mencoder_Course\u001b[0m\u001b[0;34m,\u001b[0m \u001b[0mencoder_Daytime_evening_attendance\u001b[0m\u001b[0;34m,\u001b[0m \u001b[0mencoder_Fathers_occupation\u001b[0m\u001b[0;34m,\u001b[0m \u001b[0mencoder_Fathers_qualification\u001b[0m\u001b[0;34m,\u001b[0m \u001b[0mencoder_Gender\u001b[0m\u001b[0;34m,\u001b[0m \u001b[0mencoder_Marital_status\u001b[0m\u001b[0;34m,\u001b[0m \u001b[0mencoder_Mothers_occupation\u001b[0m\u001b[0;34m,\u001b[0m \u001b[0mencoder_Mothers_qualification\u001b[0m\u001b[0;34m,\u001b[0m \u001b[0mencoder_Previous_qualification\u001b[0m\u001b[0;34m,\u001b[0m \u001b[0mencoder_Scholarship_holder\u001b[0m\u001b[0;34m\u001b[0m\u001b[0;34m\u001b[0m\u001b[0m\n\u001b[0m\u001b[1;32m      5\u001b[0m \u001b[0;32mfrom\u001b[0m \u001b[0mprediction\u001b[0m \u001b[0;32mimport\u001b[0m \u001b[0mprediction\u001b[0m\u001b[0;34m\u001b[0m\u001b[0;34m\u001b[0m\u001b[0m\n",
            "\u001b[0;31mModuleNotFoundError\u001b[0m: No module named 'data_preprocessing'",
            "",
            "\u001b[0;31m---------------------------------------------------------------------------\u001b[0;32m\nNOTE: If your import is failing due to a missing package, you can\nmanually install dependencies using either !pip or !apt.\n\nTo view examples of installing some common dependencies, click the\n\"Open Examples\" button below.\n\u001b[0;31m---------------------------------------------------------------------------\u001b[0m\n"
          ],
          "errorDetails": {
            "actions": [
              {
                "action": "open_url",
                "actionText": "Open Examples",
                "url": "/notebooks/snippets/importing_libraries.ipynb"
              }
            ]
          }
        }
      ],
      "source": [
        "import streamlit as st\n",
        "import pandas as pd\n",
        "import joblib\n",
        "from data_preprocessing import data_preprocessing, encoder_Course, encoder_Daytime_evening_attendance, encoder_Fathers_occupation, encoder_Fathers_qualification, encoder_Gender, encoder_Marital_status, encoder_Mothers_occupation, encoder_Mothers_qualification, encoder_Previous_qualification, encoder_Scholarship_holder\n",
        "from prediction import prediction"
      ]
    },
    {
      "cell_type": "code",
      "source": [
        "col1, col2 = st.columns([1, 5])\n",
        "with col1:\n",
        "    st.image(\"https://github.com/Shue84/Jaya-Jaya/blob/main/JAYA%20JAYA.png\", width=130)\n",
        "with col2:\n",
        "    st.header('Students Dropout Prediction (Prototype)')"
      ],
      "metadata": {
        "id": "lMC7_Pnh4hzA"
      },
      "execution_count": null,
      "outputs": []
    },
    {
      "cell_type": "code",
      "source": [
        "data = pd.DataFrame()\n",
        "\n",
        "col1, col2, col3 = st.columns(3)\n",
        "\n",
        "with col1:\n",
        "    Age_at_enrollment = int(st.number_input(label='Age_at_enrollment', value=15))\n",
        "    data[\"Age_at_enrollment\"] = Age_at_enrollment\n",
        "\n",
        "with col2:\n",
        "    Gender = st.selectbox(label='Gender', options=encoder_Gender.classes_, index=1)\n",
        "    data[\"Gender\"] = [Gender]\n",
        "\n",
        "with col3:\n",
        "    Marital_status = st.selectbox(label='Marital_status', options=onehot_encoder.classes_, index=5)\n",
        "    data[\"Marital_status\"] = Marital_status\n",
        "\n",
        "\n",
        "col1, col2, col3 = st.columns(3)\n",
        "\n",
        "with col1:\n",
        "    Course = st.selectbox(label='Course', options=onehot_encoder.classes_, index=16)\n",
        "    data[\"Course\"] = Course\n",
        "\n",
        "with col2:\n",
        "    Daytime_evening_attendance = st.selectbox(label='Daytime_evening_attendance', options=encoder_Daytime_evening_attendance.classes_, index=1)\n",
        "    data[\"Daytime_evening_attendance\"] = Daytime_evening_attendance\n",
        "\n",
        "with col3:\n",
        "    Scholarship_holder = st.selectbox(label='Scholarship_holder', options=encoder_Scholarship_holder.classes_, index=1)\n",
        "    data[\"Scholarship_holder\"] = Scholarship_holder\n",
        "\n",
        "\n",
        "col1, col2, col3, col4 = st.columns(4)\n",
        "\n",
        "with col1:\n",
        "    Fathers_qualification = st.selectbox(label='Fathers_qualification', options=encoder_Fathers_qualification.classes_, index=28)\n",
        "    data[\"Fathers_qualification\"] = Fathers_qualification\n",
        "\n",
        "with col2:\n",
        "    Mothers_qualification = st.selectbox(label='Mothers_qualification', options=encoder_Mothers_qualification.classes_, index=28)\n",
        "    data[\"Mothers_qualification\"] = Mothers_qualification\n",
        "\n",
        "with col3:\n",
        "    Fathers_occupation = st.selectbox(label='Fathers_occupation', options=encoder_Fathers_occupation.classes_, index=31)\n",
        "    data[\"Fathers_occupation\"] = Fathers_occupation\n",
        "\n",
        "with col4:\n",
        "    Mothers_occupation = st.selectbox(label='Mothers_occupation', options=encoder_Mothers_occupation.classes_, index=31)\n",
        "    data[\"Mothers_occupation\"] = Mothers_occupation\n",
        "\n",
        "col1, col2 = st.columns(2)\n",
        "\n",
        "with col1:\n",
        "    Previous_qualification = st.selectbox(label='Previous_qualification', options=onehot_encoder.classes_, index=16)\n",
        "    data[\"Previous_qualification\"] = Previous_qualification\n",
        "\n",
        "with col2:\n",
        "    Previous_qualification_grade = int(st.number_input(label='Previous_qualification_grade', value=0))\n",
        "    data[\"Previous_qualification_grade\"] = Previous_qualification_grade\n",
        "\n",
        "\n",
        "col1, col2 = st.columns(2)\n",
        "\n",
        "with col1:\n",
        "    Curriculum_units_1st_sem_approved = int(st.number_input(label='Curriculum_units_1st_sem_approved', value=0))\n",
        "    data[\"Curriculum_units_1st_sem_approved\"] = Curriculum_units_1st_sem_approved\n",
        "\n",
        "with col2:\n",
        "    Curriculum_units_2nd_sem_approved = int(st.number_input(label='Curriculum_units_2nd_sem_approved', value=0))\n",
        "    data[\"Curriculum_units_2nd_sem_approved\"] = Curriculum_units_2nd_sem_approved\n",
        "\n",
        "\n",
        "col1, col2 = st.columns(2)\n",
        "\n",
        "with col1:\n",
        "    Curriculum_units_1st_sem_grade = int(st.number_input(label='Curriculum_units_1st_sem_grade', value=0))\n",
        "    data[\"Curriculum_units_1st_sem_grade\"] = Curriculum_units_1st_sem_grade\n",
        "\n",
        "with col2:\n",
        "    Curriculum_units_2nd_sem_grade = int(st.number_input(label='Curriculum_units_2nd_sem_grade', value=0))\n",
        "    data[\"Curriculum_units_2nd_sem_grade\"] = Curriculum_units_2nd_sem_grade"
      ],
      "metadata": {
        "id": "LeKW1M5h9d1Y"
      },
      "execution_count": null,
      "outputs": []
    },
    {
      "cell_type": "code",
      "source": [
        "with st.expander(\"View the Raw Data\"):\n",
        "    st.dataframe(data=data, width=800, height=10)"
      ],
      "metadata": {
        "id": "9sB7EHRi9j1l"
      },
      "execution_count": null,
      "outputs": []
    },
    {
      "cell_type": "code",
      "source": [
        "if st.button('Predict'):\n",
        "    new_data = data_preprocessing(data=data)\n",
        "    with st.expander(\"View the Preprocessed Data\"):\n",
        "        st.dataframe(data=new_data, width=800, height=10)\n",
        "    st.write(\"Status: {}\".format(prediction(new_data)))"
      ],
      "metadata": {
        "id": "Am2lHcwN9mJ0"
      },
      "execution_count": null,
      "outputs": []
    }
  ]
}